{
 "cells": [
  {
   "cell_type": "markdown",
   "metadata": {},
   "source": [
    "# Python Strings and Lists"
   ]
  },
  {
   "cell_type": "markdown",
   "metadata": {},
   "source": [
    "## Strings"
   ]
  },
  {
   "cell_type": "markdown",
   "metadata": {},
   "source": [
    "Let's define a few string variables to get started:"
   ]
  },
  {
   "cell_type": "code",
   "execution_count": 837,
   "metadata": {},
   "outputs": [],
   "source": [
    "given_name = 'James'\n",
    "surname = 'Bond'"
   ]
  },
  {
   "cell_type": "markdown",
   "metadata": {},
   "source": [
    "You can concatenate strings using the plus ie. + operator:"
   ]
  },
  {
   "cell_type": "code",
   "execution_count": 838,
   "metadata": {},
   "outputs": [
    {
     "name": "stdout",
     "output_type": "stream",
     "text": [
      "Today's secret agent is James Bond.\n"
     ]
    }
   ],
   "source": [
    "print('Today\\'s secret agent is ' + given_name + ' ' + surname + '.')"
   ]
  },
  {
   "cell_type": "markdown",
   "metadata": {},
   "source": [
    "Or do the same using the string's format() function with numbered placeholders: "
   ]
  },
  {
   "cell_type": "code",
   "execution_count": 839,
   "metadata": {},
   "outputs": [
    {
     "name": "stdout",
     "output_type": "stream",
     "text": [
      "Today's secret agent is James Bond.\n"
     ]
    }
   ],
   "source": [
    "print(\"Today's secret agent is {0} {1}.\".format(given_name, surname))"
   ]
  },
  {
   "cell_type": "markdown",
   "metadata": {},
   "source": [
    "The benefit of format() is that it provides flexibility and saves typing when reschuffling or reusing words:"
   ]
  },
  {
   "cell_type": "code",
   "execution_count": 840,
   "metadata": {},
   "outputs": [
    {
     "name": "stdout",
     "output_type": "stream",
     "text": [
      "Today's secret agent is Bond, James Bond.\n"
     ]
    }
   ],
   "source": [
    "print(\"Today's secret agent is {1}, {0} {1}.\".format(given_name, surname))"
   ]
  },
  {
   "cell_type": "markdown",
   "metadata": {},
   "source": [
    "Numbered placeholders are handy, but sometimes named placeholders help with readability:"
   ]
  },
  {
   "cell_type": "code",
   "execution_count": 841,
   "metadata": {},
   "outputs": [
    {
     "name": "stdout",
     "output_type": "stream",
     "text": [
      "Today's secret agent is Bond, James Bond.\n"
     ]
    }
   ],
   "source": [
    "print(\"Today's secret agent is {last_name}, {first_name} {last_name}.\".format(first_name=given_name, last_name=surname))"
   ]
  },
  {
   "cell_type": "markdown",
   "metadata": {},
   "source": [
    "## Lists"
   ]
  },
  {
   "cell_type": "markdown",
   "metadata": {},
   "source": [
    "### Creating a list"
   ]
  },
  {
   "cell_type": "markdown",
   "metadata": {},
   "source": [
    "Let's create the list of our favourite apples where the first one in the list is what we like most, note the square brackets around the list items:"
   ]
  },
  {
   "cell_type": "code",
   "execution_count": 842,
   "metadata": {},
   "outputs": [],
   "source": [
    "favourite_apples = ['honeycrisp', 'breaburn', 'jonathan', 'jazz', 'granny smith', 'golden delicious']"
   ]
  },
  {
   "cell_type": "code",
   "execution_count": 843,
   "metadata": {},
   "outputs": [
    {
     "name": "stdout",
     "output_type": "stream",
     "text": [
      "My favourite apples are ['honeycrisp', 'breaburn', 'jonathan', 'jazz', 'granny smith', 'golden delicious']\n"
     ]
    }
   ],
   "source": [
    "print('My favourite apples are {0}'.format(favourite_apples)) "
   ]
  },
  {
   "cell_type": "markdown",
   "metadata": {},
   "source": [
    "Q: But why do we have the square brackets in the output? \n",
    "A: You created the list variable using square brackets and printing out the list will show formatted the same way.\n",
    "\n",
    "To get rid of the square brackets in the output, you need to concatenate the list items into a string using the join() function:"
   ]
  },
  {
   "cell_type": "code",
   "execution_count": 844,
   "metadata": {},
   "outputs": [
    {
     "name": "stdout",
     "output_type": "stream",
     "text": [
      "My favourite apples are honeycrisp, breaburn, jonathan, jazz, granny smith, golden delicious.\n"
     ]
    }
   ],
   "source": [
    "print('My favourite apples are {0}.'.format(\", \".join(favourite_apples))) "
   ]
  },
  {
   "cell_type": "markdown",
   "metadata": {},
   "source": [
    "How about semi-colon instead of coma separated favourites? You should call the join() function on the \"; \" separator string:"
   ]
  },
  {
   "cell_type": "code",
   "execution_count": 845,
   "metadata": {},
   "outputs": [
    {
     "name": "stdout",
     "output_type": "stream",
     "text": [
      "My favourite apples are honeycrisp; breaburn; jonathan; jazz; granny smith; golden delicious.\n"
     ]
    }
   ],
   "source": [
    "print('My favourite apples are {0}.'.format(\"; \".join(favourite_apples)))"
   ]
  },
  {
   "cell_type": "markdown",
   "metadata": {},
   "source": [
    "Task: Can you print out the favourites separated by right arrows ie. -> ?\n",
    "The output should look something like: _My favourite apples are honeycrisp -> breaburn ..._"
   ]
  },
  {
   "cell_type": "markdown",
   "metadata": {},
   "source": [
    "### Indexing a list"
   ]
  },
  {
   "cell_type": "markdown",
   "metadata": {},
   "source": [
    "To answer the _what's your favourite apple?_ question, we can simply answer by taking the first item in the list:"
   ]
  },
  {
   "cell_type": "code",
   "execution_count": 846,
   "metadata": {},
   "outputs": [
    {
     "name": "stdout",
     "output_type": "stream",
     "text": [
      "honeycrisp\n"
     ]
    }
   ],
   "source": [
    "print(favourite_apples[0])"
   ]
  },
  {
   "cell_type": "markdown",
   "metadata": {},
   "source": [
    "Let's answer with a whole sentence using what we've learned about string concatenation:"
   ]
  },
  {
   "cell_type": "code",
   "execution_count": 847,
   "metadata": {},
   "outputs": [
    {
     "name": "stdout",
     "output_type": "stream",
     "text": [
      "My favourite apple is honeycrisp.\n",
      "But I also like breaburn almost as much.\n"
     ]
    }
   ],
   "source": [
    "print('My favourite apple is {0}.'.format(favourite_apples[0]))\n",
    "print('But I also like {0} almost as much.'.format(favourite_apples[1]))"
   ]
  },
  {
   "cell_type": "markdown",
   "metadata": {},
   "source": [
    "Now it's just as easy to talk about our least favourite ones with negative indexing that starts from the end of the list: "
   ]
  },
  {
   "cell_type": "code",
   "execution_count": 848,
   "metadata": {},
   "outputs": [
    {
     "name": "stdout",
     "output_type": "stream",
     "text": [
      "I never choose golden delicious, my least favourite, but a granny smith will do if there is nothing else.\n"
     ]
    }
   ],
   "source": [
    "print('I never choose {0}, my least favourite, but a {1} will do if there is nothing else.'.format(favourite_apples[-1], favourite_apples[-2]))"
   ]
  },
  {
   "cell_type": "markdown",
   "metadata": {},
   "source": [
    "How about listing the top 3 faviourites? Instead of a single index, list slicing uses two indeces ie. a begin index and end index separated by colon. Remeber that the begin index is inclusive and the end index is exclusive:"
   ]
  },
  {
   "cell_type": "code",
   "execution_count": 849,
   "metadata": {},
   "outputs": [
    {
     "name": "stdout",
     "output_type": "stream",
     "text": [
      "My top 3 favourites are ['honeycrisp', 'breaburn', 'jonathan'].\n"
     ]
    }
   ],
   "source": [
    "print('My top 3 favourites are {0}.'.format(favourite_apples[0:3]))"
   ]
  },
  {
   "cell_type": "markdown",
   "metadata": {},
   "source": [
    "Note that you can leave the 0 index out as the start index to save some typing:"
   ]
  },
  {
   "cell_type": "code",
   "execution_count": 850,
   "metadata": {},
   "outputs": [
    {
     "name": "stdout",
     "output_type": "stream",
     "text": [
      "My top 3 favourites are ['honeycrisp', 'breaburn', 'jonathan'].\n"
     ]
    }
   ],
   "source": [
    "print('My top 3 favourites are {0}.'.format(favourite_apples[:3]))"
   ]
  },
  {
   "cell_type": "markdown",
   "metadata": {},
   "source": [
    "And you can also leave the end index out if it's the last item:"
   ]
  },
  {
   "cell_type": "code",
   "execution_count": 851,
   "metadata": {},
   "outputs": [
    {
     "name": "stdout",
     "output_type": "stream",
     "text": [
      "My least 3 favourites are ['jazz', 'granny smith', 'golden delicious'].\n"
     ]
    }
   ],
   "source": [
    "print('My least 3 favourites are {0}.'.format(favourite_apples[3:]))"
   ]
  },
  {
   "cell_type": "markdown",
   "metadata": {},
   "source": [
    "But why do we have the square brackets in the output? You create the list variable using square brackets and printing out the list will show the items in square brackets similar how you created them.\n",
    "\n",
    "Let's get rid of the square brackets in the output by concatenating the list of apples into a string separated by comas:"
   ]
  },
  {
   "cell_type": "code",
   "execution_count": 852,
   "metadata": {},
   "outputs": [
    {
     "name": "stdout",
     "output_type": "stream",
     "text": [
      "My top 3 favourites are honeycrisp, breaburn, jonathan.\n"
     ]
    }
   ],
   "source": [
    "print('My top 3 favourites are {0}.'.format(\", \".join(favourite_apples[:3])))"
   ]
  },
  {
   "cell_type": "markdown",
   "metadata": {},
   "source": [
    "### Splitting a string into a list of words"
   ]
  },
  {
   "cell_type": "markdown",
   "metadata": {},
   "source": [
    "Let's create a whole sentence in a string variable:"
   ]
  },
  {
   "cell_type": "code",
   "execution_count": 853,
   "metadata": {},
   "outputs": [],
   "source": [
    "sentence = \"The quick brown fox jumps over the lazy dog.\""
   ]
  },
  {
   "cell_type": "markdown",
   "metadata": {},
   "source": [
    "Let's say we want to modify this sentence by replacing some words in there ie. make the fox to _sit next to_ the dog instead of _jumping over_ it.\n",
    "\n",
    "To replace the verb _jumps_ with _hops_, first you need to split up the sentence into a list of words.\n",
    "Having the list of words of the sentence allows you to get hold of each word separately with indexing:"
   ]
  },
  {
   "cell_type": "code",
   "execution_count": 854,
   "metadata": {},
   "outputs": [
    {
     "name": "stdout",
     "output_type": "stream",
     "text": [
      "['The', 'quick', 'brown', 'fox', 'jumps', 'over', 'the', 'lazy', 'dog.']\n"
     ]
    }
   ],
   "source": [
    "listOfWords = sentence.split()\n",
    "print(listOfWords)"
   ]
  },
  {
   "cell_type": "markdown",
   "metadata": {},
   "source": [
    "Let's take the first part of the sentence using a range index describing the fox:"
   ]
  },
  {
   "cell_type": "code",
   "execution_count": 855,
   "metadata": {},
   "outputs": [
    {
     "name": "stdout",
     "output_type": "stream",
     "text": [
      "The quick brown fox\n"
     ]
    }
   ],
   "source": [
    "fox_phrase=\" \".join(listOfWords[:4])\n",
    "print(fox_phrase)"
   ]
  },
  {
   "cell_type": "markdown",
   "metadata": {},
   "source": [
    "And take the second part of the sentence describing the dog:"
   ]
  },
  {
   "cell_type": "code",
   "execution_count": 856,
   "metadata": {},
   "outputs": [
    {
     "name": "stdout",
     "output_type": "stream",
     "text": [
      "the lazy dog.\n"
     ]
    }
   ],
   "source": [
    "dog_phrase=\" \".join(listOfWords[6:])\n",
    "print(dog_phrase)"
   ]
  },
  {
   "cell_type": "markdown",
   "metadata": {},
   "source": [
    "We put the modified sentence together by substituting _sits next to_ between the phrases describing the fox and the dog:"
   ]
  },
  {
   "cell_type": "code",
   "execution_count": 857,
   "metadata": {},
   "outputs": [
    {
     "name": "stdout",
     "output_type": "stream",
     "text": [
      "The quick brown fox sits next to the lazy dog.\n"
     ]
    }
   ],
   "source": [
    "print(\"{subject} {verb}s {adverb} {object}\".format(subject=fox_phrase, verb='sit', adverb='next to', object=dog_phrase))"
   ]
  }
 ],
 "metadata": {
  "kernelspec": {
   "display_name": "Python 3",
   "language": "python",
   "name": "python3"
  },
  "language_info": {
   "codemirror_mode": {
    "name": "ipython",
    "version": 3
   },
   "file_extension": ".py",
   "mimetype": "text/x-python",
   "name": "python",
   "nbconvert_exporter": "python",
   "pygments_lexer": "ipython3",
   "version": "3.6.5"
  }
 },
 "nbformat": 4,
 "nbformat_minor": 2
}
